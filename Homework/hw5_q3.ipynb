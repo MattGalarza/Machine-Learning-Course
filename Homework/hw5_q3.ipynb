{
 "cells": [
  {
   "cell_type": "code",
   "execution_count": 6,
   "id": "62820b22",
   "metadata": {},
   "outputs": [
    {
     "name": "stdout",
     "output_type": "stream",
     "text": [
      "accuracy score =  0.9590643274853801\n"
     ]
    }
   ],
   "source": [
    "import numpy as np\n",
    "from sklearn import datasets\n",
    "from sklearn.pipeline import Pipeline\n",
    "from sklearn.preprocessing import StandardScaler\n",
    "from sklearn.svm import LinearSVC\n",
    "from sklearn import svm\n",
    "from sklearn.model_selection import train_test_split\n",
    "from sklearn.metrics import accuracy_score\n",
    "\n",
    "bc_data = datasets.load_breast_cancer()\n",
    "\n",
    "# Using the worst conditions -> worst area, worst compactness, worst concavity\n",
    "X = bc_data[\"data\"][:, (23,25,26)]\n",
    "y = (bc_data[\"target\"])\n",
    "\n",
    "X_train, X_test, y_train, y_test=train_test_split(\n",
    "    X,y,\n",
    "    test_size=0.30,\n",
    "    train_size=0.70,\n",
    "    random_state=123,\n",
    "    shuffle=True,\n",
    "    stratify=y)\n",
    "\n",
    "model = svm.SVC(kernel = 'linear', C = 1, gamma = 'auto')\n",
    "model.fit(X_train, y_train)\n",
    "predict = model.predict(X_test)\n",
    "print('accuracy score = ', accuracy_score(y_test, predict))"
   ]
  },
  {
   "cell_type": "code",
   "execution_count": 7,
   "id": "d894ef23",
   "metadata": {},
   "outputs": [
    {
     "name": "stdout",
     "output_type": "stream",
     "text": [
      "accuracy score : 0.7309941520467836\n"
     ]
    }
   ],
   "source": [
    "model = svm.SVC(kernel = 'rbf', C = 2, gamma = 'auto')\n",
    "model.fit(X_train, y_train)\n",
    "predict = model.predict(X_test)\n",
    "print('accuracy score :', accuracy_score(y_test,predict))"
   ]
  },
  {
   "cell_type": "code",
   "execution_count": null,
   "id": "4f9bfa92",
   "metadata": {},
   "outputs": [],
   "source": []
  }
 ],
 "metadata": {
  "kernelspec": {
   "display_name": "Python 3 (ipykernel)",
   "language": "python",
   "name": "python3"
  },
  "language_info": {
   "codemirror_mode": {
    "name": "ipython",
    "version": 3
   },
   "file_extension": ".py",
   "mimetype": "text/x-python",
   "name": "python",
   "nbconvert_exporter": "python",
   "pygments_lexer": "ipython3",
   "version": "3.9.13"
  }
 },
 "nbformat": 4,
 "nbformat_minor": 5
}
